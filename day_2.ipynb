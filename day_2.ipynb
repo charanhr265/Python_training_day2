{
  "nbformat": 4,
  "nbformat_minor": 0,
  "metadata": {
    "colab": {
      "provenance": []
    },
    "kernelspec": {
      "name": "python3",
      "display_name": "Python 3"
    },
    "language_info": {
      "name": "python"
    }
  },
  "cells": [
    {
      "cell_type": "code",
      "execution_count": null,
      "metadata": {
        "id": "gZZN-6Xxd4WD"
      },
      "outputs": [],
      "source": []
    },
    {
      "cell_type": "markdown",
      "source": [
        "Operators  - opeartors  are symobols using this we can perform the operations on variable"
      ],
      "metadata": {
        "id": "kDDYRBVteLLr"
      }
    },
    {
      "cell_type": "code",
      "source": [
        "5 + 10"
      ],
      "metadata": {
        "colab": {
          "base_uri": "https://localhost:8080/"
        },
        "id": "fvavNsCkefkN",
        "outputId": "b4908f85-a16f-46f2-90d8-16b83f46eb91"
      },
      "execution_count": null,
      "outputs": [
        {
          "output_type": "execute_result",
          "data": {
            "text/plain": [
              "15"
            ]
          },
          "metadata": {},
          "execution_count": 2
        }
      ]
    },
    {
      "cell_type": "code",
      "source": [
        "num1=10\n",
        "num2=4\n",
        "num1 + num2"
      ],
      "metadata": {
        "colab": {
          "base_uri": "https://localhost:8080/"
        },
        "id": "3Z43Q6syfr3D",
        "outputId": "12922b7c-7514-4eef-afb2-4984b3ba4f43"
      },
      "execution_count": null,
      "outputs": [
        {
          "output_type": "execute_result",
          "data": {
            "text/plain": [
              "14"
            ]
          },
          "metadata": {},
          "execution_count": 7
        }
      ]
    },
    {
      "cell_type": "code",
      "source": [
        "num1 + num2"
      ],
      "metadata": {
        "colab": {
          "base_uri": "https://localhost:8080/"
        },
        "id": "jFB_ZPADf5yo",
        "outputId": "9a23ae2b-639c-4788-96d2-f61bfc4c34d2"
      },
      "execution_count": null,
      "outputs": [
        {
          "output_type": "execute_result",
          "data": {
            "text/plain": [
              "14"
            ]
          },
          "metadata": {},
          "execution_count": 9
        }
      ]
    },
    {
      "cell_type": "code",
      "source": [
        "num1*num2"
      ],
      "metadata": {
        "colab": {
          "base_uri": "https://localhost:8080/"
        },
        "id": "5eA6HkvGgKr4",
        "outputId": "dec27cf4-c115-446b-e6c2-3ebb5ce9a7a8"
      },
      "execution_count": null,
      "outputs": [
        {
          "output_type": "execute_result",
          "data": {
            "text/plain": [
              "40"
            ]
          },
          "metadata": {},
          "execution_count": 10
        }
      ]
    },
    {
      "cell_type": "code",
      "source": [
        "num1%num2- reminder\n"
      ],
      "metadata": {
        "colab": {
          "base_uri": "https://localhost:8080/"
        },
        "id": "hP65UqhFgN_A",
        "outputId": "7ed08c10-142c-473c-eb41-b1f4ec2c42de"
      },
      "execution_count": null,
      "outputs": [
        {
          "output_type": "execute_result",
          "data": {
            "text/plain": [
              "2"
            ]
          },
          "metadata": {},
          "execution_count": 11
        }
      ]
    },
    {
      "cell_type": "code",
      "source": [
        "num1/num2"
      ],
      "metadata": {
        "colab": {
          "base_uri": "https://localhost:8080/"
        },
        "id": "jieUF1aKgZfg",
        "outputId": "227cf14b-8939-48c5-bd59-50b048c45ea9"
      },
      "execution_count": null,
      "outputs": [
        {
          "output_type": "execute_result",
          "data": {
            "text/plain": [
              "2.5"
            ]
          },
          "metadata": {},
          "execution_count": 12
        }
      ]
    },
    {
      "cell_type": "markdown",
      "source": [],
      "metadata": {
        "id": "pi5V67PYhnho"
      }
    },
    {
      "cell_type": "code",
      "source": [],
      "metadata": {
        "id": "lpiEqJonhoum"
      },
      "execution_count": null,
      "outputs": []
    },
    {
      "cell_type": "code",
      "source": [
        "num1-num2"
      ],
      "metadata": {
        "colab": {
          "base_uri": "https://localhost:8080/"
        },
        "id": "Mr8s27AagrMC",
        "outputId": "22adac53-f6ec-4b77-b907-a7f20ef77da3"
      },
      "execution_count": null,
      "outputs": [
        {
          "output_type": "execute_result",
          "data": {
            "text/plain": [
              "6"
            ]
          },
          "metadata": {},
          "execution_count": 13
        }
      ]
    },
    {
      "cell_type": "code",
      "source": [],
      "metadata": {
        "id": "18gHV8FjgzgN"
      },
      "execution_count": null,
      "outputs": []
    },
    {
      "cell_type": "markdown",
      "source": [
        "assignment operator"
      ],
      "metadata": {
        "id": "3Tt_VAXYh5G8"
      }
    },
    {
      "cell_type": "code",
      "source": [
        "num1 = 10\n",
        "num1 += 5 #num1=num1+5"
      ],
      "metadata": {
        "id": "nTzH1Dwgh8Gb"
      },
      "execution_count": null,
      "outputs": []
    },
    {
      "cell_type": "code",
      "source": [
        "num1"
      ],
      "metadata": {
        "colab": {
          "base_uri": "https://localhost:8080/"
        },
        "id": "bNyA_Q5uiF6k",
        "outputId": "dac79a55-076d-4941-85d9-00c4825667c3"
      },
      "execution_count": null,
      "outputs": [
        {
          "output_type": "execute_result",
          "data": {
            "text/plain": [
              "15"
            ]
          },
          "metadata": {},
          "execution_count": 15
        }
      ]
    },
    {
      "cell_type": "code",
      "source": [
        "num1 -=5 #num1=num1-5\n"
      ],
      "metadata": {
        "id": "HvVcaHtTiIU1"
      },
      "execution_count": null,
      "outputs": []
    },
    {
      "cell_type": "code",
      "source": [
        "num1"
      ],
      "metadata": {
        "colab": {
          "base_uri": "https://localhost:8080/"
        },
        "id": "Q0g-XjkEiaUm",
        "outputId": "dd608591-d54b-466a-9e6f-aa8c048e7394"
      },
      "execution_count": null,
      "outputs": [
        {
          "output_type": "execute_result",
          "data": {
            "text/plain": [
              "0"
            ]
          },
          "metadata": {},
          "execution_count": 24
        }
      ]
    },
    {
      "cell_type": "code",
      "source": [
        "num1"
      ],
      "metadata": {
        "colab": {
          "base_uri": "https://localhost:8080/"
        },
        "id": "JiwLbLb0ibGe",
        "outputId": "da54a539-52e9-4de7-cd1a-7454a984d82a"
      },
      "execution_count": null,
      "outputs": [
        {
          "output_type": "execute_result",
          "data": {
            "text/plain": [
              "0"
            ]
          },
          "metadata": {},
          "execution_count": 25
        }
      ]
    },
    {
      "cell_type": "code",
      "source": [
        "num1=15\n",
        "num1 -=5 #num1=num1-5"
      ],
      "metadata": {
        "id": "kkOzkgj4i_K9"
      },
      "execution_count": null,
      "outputs": []
    },
    {
      "cell_type": "code",
      "source": [
        "num1"
      ],
      "metadata": {
        "colab": {
          "base_uri": "https://localhost:8080/"
        },
        "id": "OS6V6XFwjNO5",
        "outputId": "90f07f7e-5629-4190-8bcd-f7fcd3c02d9f"
      },
      "execution_count": null,
      "outputs": [
        {
          "output_type": "execute_result",
          "data": {
            "text/plain": [
              "10"
            ]
          },
          "metadata": {},
          "execution_count": 27
        }
      ]
    },
    {
      "cell_type": "code",
      "source": [
        "num1"
      ],
      "metadata": {
        "colab": {
          "base_uri": "https://localhost:8080/"
        },
        "id": "9jA022bfjPiD",
        "outputId": "cbe20746-f2cf-4105-d295-aab34199cd87"
      },
      "execution_count": null,
      "outputs": [
        {
          "output_type": "execute_result",
          "data": {
            "text/plain": [
              "10"
            ]
          },
          "metadata": {},
          "execution_count": 28
        }
      ]
    },
    {
      "cell_type": "code",
      "source": [
        "num1-=5"
      ],
      "metadata": {
        "id": "aqPtkvo_jicH"
      },
      "execution_count": null,
      "outputs": []
    },
    {
      "cell_type": "code",
      "source": [
        "num1"
      ],
      "metadata": {
        "colab": {
          "base_uri": "https://localhost:8080/"
        },
        "id": "E6N77efIjlwW",
        "outputId": "4e0f81d0-d1a5-41ec-b83a-72a1bc161817"
      },
      "execution_count": null,
      "outputs": [
        {
          "output_type": "execute_result",
          "data": {
            "text/plain": [
              "5"
            ]
          },
          "metadata": {},
          "execution_count": 30
        }
      ]
    },
    {
      "cell_type": "code",
      "source": [
        "numnum1\n"
      ],
      "metadata": {
        "colab": {
          "base_uri": "https://localhost:8080/"
        },
        "id": "oMtehrj6jmyx",
        "outputId": "06459c66-c061-47e3-a1f4-85eb61d738be"
      },
      "execution_count": null,
      "outputs": [
        {
          "output_type": "execute_result",
          "data": {
            "text/plain": [
              "0"
            ]
          },
          "metadata": {},
          "execution_count": 32
        }
      ]
    },
    {
      "cell_type": "code",
      "source": [],
      "metadata": {
        "id": "UOsHH2uUjrAt"
      },
      "execution_count": null,
      "outputs": []
    },
    {
      "cell_type": "markdown",
      "source": [
        "comparision operation"
      ],
      "metadata": {
        "id": "_1druJZ-pT13"
      }
    },
    {
      "cell_type": "code",
      "source": [
        "num1=10\n",
        "num2=20"
      ],
      "metadata": {
        "id": "Dja7KhlIpXM1"
      },
      "execution_count": null,
      "outputs": []
    },
    {
      "cell_type": "code",
      "source": [
        "num1==num2"
      ],
      "metadata": {
        "colab": {
          "base_uri": "https://localhost:8080/"
        },
        "id": "TyjKFiQtpbbJ",
        "outputId": "0f6b578c-b949-42d7-87f9-ed103507ddb8"
      },
      "execution_count": null,
      "outputs": [
        {
          "output_type": "execute_result",
          "data": {
            "text/plain": [
              "False"
            ]
          },
          "metadata": {},
          "execution_count": 34
        }
      ]
    },
    {
      "cell_type": "code",
      "source": [
        "num1>num2"
      ],
      "metadata": {
        "colab": {
          "base_uri": "https://localhost:8080/"
        },
        "id": "iOgbBn9ApgFY",
        "outputId": "2e781218-bdb4-4c6b-9c0d-7ef6629ef316"
      },
      "execution_count": null,
      "outputs": [
        {
          "output_type": "execute_result",
          "data": {
            "text/plain": [
              "False"
            ]
          },
          "metadata": {},
          "execution_count": 35
        }
      ]
    },
    {
      "cell_type": "code",
      "source": [
        "num1<num2"
      ],
      "metadata": {
        "colab": {
          "base_uri": "https://localhost:8080/"
        },
        "id": "myUAL3Ptp4Jv",
        "outputId": "ffa923ad-2a55-4e0b-91f6-354e2cae1038"
      },
      "execution_count": null,
      "outputs": [
        {
          "output_type": "execute_result",
          "data": {
            "text/plain": [
              "True"
            ]
          },
          "metadata": {},
          "execution_count": 36
        }
      ]
    },
    {
      "cell_type": "code",
      "source": [],
      "metadata": {
        "id": "sABLffGOqMow"
      },
      "execution_count": null,
      "outputs": []
    },
    {
      "cell_type": "markdown",
      "source": [
        "the process of converting one data type to another called type casting"
      ],
      "metadata": {
        "id": "kuvWYI9yyMNG"
      }
    },
    {
      "cell_type": "markdown",
      "source": [
        "functions\n",
        "int(); converts to integer\n",
        "float; .....to float\n",
        "str; string"
      ],
      "metadata": {
        "id": "OOemcqB41vAU"
      }
    },
    {
      "cell_type": "code",
      "source": [
        "a=\"100\""
      ],
      "metadata": {
        "id": "1Tdz6Tk-yXIm"
      },
      "execution_count": null,
      "outputs": []
    },
    {
      "cell_type": "code",
      "source": [
        "type(a)"
      ],
      "metadata": {
        "colab": {
          "base_uri": "https://localhost:8080/"
        },
        "id": "CS7kFLdf25GS",
        "outputId": "c2316722-b797-40fa-c0f5-9af782092553"
      },
      "execution_count": null,
      "outputs": [
        {
          "output_type": "execute_result",
          "data": {
            "text/plain": [
              "str"
            ]
          },
          "metadata": {},
          "execution_count": 38
        }
      ]
    },
    {
      "cell_type": "code",
      "source": [
        "a=100"
      ],
      "metadata": {
        "id": "UUpMoYR02-OR"
      },
      "execution_count": null,
      "outputs": []
    },
    {
      "cell_type": "code",
      "source": [
        "type(a)"
      ],
      "metadata": {
        "colab": {
          "base_uri": "https://localhost:8080/"
        },
        "id": "9FvxRi-Q3E9c",
        "outputId": "322e47f0-13f4-426c-8db6-e77d557d4769"
      },
      "execution_count": null,
      "outputs": [
        {
          "output_type": "execute_result",
          "data": {
            "text/plain": [
              "int"
            ]
          },
          "metadata": {},
          "execution_count": 40
        }
      ]
    },
    {
      "cell_type": "code",
      "source": [
        "y=2.44"
      ],
      "metadata": {
        "id": "fKqAj1Ea3Igu"
      },
      "execution_count": null,
      "outputs": []
    },
    {
      "cell_type": "code",
      "source": [
        "type(y)"
      ],
      "metadata": {
        "colab": {
          "base_uri": "https://localhost:8080/"
        },
        "id": "UTT_iOc83MpS",
        "outputId": "eb8dbe23-b6c8-470b-887d-ea770c6ece6d"
      },
      "execution_count": null,
      "outputs": [
        {
          "output_type": "execute_result",
          "data": {
            "text/plain": [
              "float"
            ]
          },
          "metadata": {},
          "execution_count": 42
        }
      ]
    },
    {
      "cell_type": "code",
      "source": [
        "str(a)"
      ],
      "metadata": {
        "colab": {
          "base_uri": "https://localhost:8080/",
          "height": 35
        },
        "id": "HB_vTcln3OZR",
        "outputId": "52071660-50d7-4d26-ccf7-166334dfe1b3"
      },
      "execution_count": null,
      "outputs": [
        {
          "output_type": "execute_result",
          "data": {
            "text/plain": [
              "'100'"
            ],
            "application/vnd.google.colaboratory.intrinsic+json": {
              "type": "string"
            }
          },
          "metadata": {},
          "execution_count": 43
        }
      ]
    },
    {
      "cell_type": "code",
      "source": [
        "float(a)"
      ],
      "metadata": {
        "colab": {
          "base_uri": "https://localhost:8080/"
        },
        "id": "Vmf-pgDJ3Uqb",
        "outputId": "05cd71dc-9d4c-4b05-d6c3-e740bec7c351"
      },
      "execution_count": null,
      "outputs": [
        {
          "output_type": "execute_result",
          "data": {
            "text/plain": [
              "100.0"
            ]
          },
          "metadata": {},
          "execution_count": 44
        }
      ]
    },
    {
      "cell_type": "code",
      "source": [
        "customername=\"charan\"\n",
        "id = \"1341\"\n",
        "salary=\"5000\"\n",
        "int(id)"
      ],
      "metadata": {
        "colab": {
          "base_uri": "https://localhost:8080/"
        },
        "id": "hXm9ub2e3ZTB",
        "outputId": "5d54c271-9a92-4dd9-e4ad-0efd00080a04"
      },
      "execution_count": null,
      "outputs": [
        {
          "output_type": "execute_result",
          "data": {
            "text/plain": [
              "1341"
            ]
          },
          "metadata": {},
          "execution_count": 54
        }
      ]
    },
    {
      "cell_type": "code",
      "source": [
        "type(int(id))"
      ],
      "metadata": {
        "colab": {
          "base_uri": "https://localhost:8080/"
        },
        "id": "y280PkTT40n7",
        "outputId": "666a9f54-cdd7-4add-f1ad-7fcc0f8d6459"
      },
      "execution_count": null,
      "outputs": [
        {
          "output_type": "execute_result",
          "data": {
            "text/plain": [
              "int"
            ]
          },
          "metadata": {},
          "execution_count": 48
        }
      ]
    },
    {
      "cell_type": "code",
      "source": [
        "print(\"customername\")"
      ],
      "metadata": {
        "colab": {
          "base_uri": "https://localhost:8080/"
        },
        "id": "2ruVC0_85I_I",
        "outputId": "8fb08e6e-82ff-4722-cb2e-44968308d022"
      },
      "execution_count": null,
      "outputs": [
        {
          "output_type": "stream",
          "name": "stdout",
          "text": [
            "customername\n"
          ]
        }
      ]
    },
    {
      "cell_type": "code",
      "source": [
        "type(customername)"
      ],
      "metadata": {
        "colab": {
          "base_uri": "https://localhost:8080/"
        },
        "id": "QAjEB5_l5Q5l",
        "outputId": "db445b7c-0736-4cb7-9a34-51bd0eafa742"
      },
      "execution_count": null,
      "outputs": [
        {
          "output_type": "execute_result",
          "data": {
            "text/plain": [
              "str"
            ]
          },
          "metadata": {},
          "execution_count": 50
        }
      ]
    },
    {
      "cell_type": "code",
      "source": [
        "print(\"customer name is\",customername)"
      ],
      "metadata": {
        "colab": {
          "base_uri": "https://localhost:8080/"
        },
        "id": "MeM7kysh5e2D",
        "outputId": "f71b9169-48d4-42e0-eb4c-12f5b07949cd"
      },
      "execution_count": null,
      "outputs": [
        {
          "output_type": "stream",
          "name": "stdout",
          "text": [
            "customer name is charan\n"
          ]
        }
      ]
    },
    {
      "cell_type": "code",
      "source": [
        "print(\"customer name is\",customername,\"and cust id is\",id)"
      ],
      "metadata": {
        "colab": {
          "base_uri": "https://localhost:8080/"
        },
        "id": "qspjmlsF6KPe",
        "outputId": "61989cde-a922-451d-9f2a-d4685a887ff5"
      },
      "execution_count": null,
      "outputs": [
        {
          "output_type": "stream",
          "name": "stdout",
          "text": [
            "customer name is charan and cust id is 1341\n"
          ]
        }
      ]
    },
    {
      "cell_type": "code",
      "source": [
        "print(\"customer name is\",customername,\"and cust id is\",id,\"salary of cust is\",salary)"
      ],
      "metadata": {
        "colab": {
          "base_uri": "https://localhost:8080/"
        },
        "id": "rmeVLXkI6aFA",
        "outputId": "91d5cd79-e375-471e-f69f-23cb986afc36"
      },
      "execution_count": null,
      "outputs": [
        {
          "output_type": "stream",
          "name": "stdout",
          "text": [
            "customer name is charan and cust id is 1341 salary of cust is 5000\n"
          ]
        }
      ]
    },
    {
      "cell_type": "code",
      "source": [
        "l=1,7,9"
      ],
      "metadata": {
        "id": "umC7sLVq68Qm"
      },
      "execution_count": null,
      "outputs": []
    },
    {
      "cell_type": "code",
      "source": [
        "tuple(l)"
      ],
      "metadata": {
        "colab": {
          "base_uri": "https://localhost:8080/"
        },
        "id": "uc40ue0h8cVK",
        "outputId": "434deb55-4077-41ff-97d8-21306c48bbb4"
      },
      "execution_count": null,
      "outputs": [
        {
          "output_type": "execute_result",
          "data": {
            "text/plain": [
              "(1, 7, 9)"
            ]
          },
          "metadata": {},
          "execution_count": 57
        }
      ]
    },
    {
      "cell_type": "code",
      "source": [
        "set(l)"
      ],
      "metadata": {
        "colab": {
          "base_uri": "https://localhost:8080/"
        },
        "id": "7dmSUkks8iwp",
        "outputId": "6d4e7d5a-d236-4617-cfc4-d8eac0e316d7"
      },
      "execution_count": null,
      "outputs": [
        {
          "output_type": "execute_result",
          "data": {
            "text/plain": [
              "{1, 7, 9}"
            ]
          },
          "metadata": {},
          "execution_count": 58
        }
      ]
    },
    {
      "cell_type": "code",
      "source": [],
      "metadata": {
        "id": "geVXbEgaPEWd"
      },
      "execution_count": null,
      "outputs": []
    },
    {
      "cell_type": "code",
      "source": [
        "name= input(\"please enter your name\")"
      ],
      "metadata": {
        "id": "YHcVWaCz8nJm",
        "colab": {
          "base_uri": "https://localhost:8080/"
        },
        "outputId": "da11eb62-1c54-45b6-eafc-3e9ece66dfb7"
      },
      "execution_count": 1,
      "outputs": [
        {
          "name": "stdout",
          "output_type": "stream",
          "text": [
            "please enter your name charan\n"
          ]
        }
      ]
    },
    {
      "cell_type": "code",
      "source": [
        "name"
      ],
      "metadata": {
        "colab": {
          "base_uri": "https://localhost:8080/",
          "height": 35
        },
        "id": "-_QgDpfSO6m8",
        "outputId": "babe4127-3cec-4429-dd39-0937af558a92"
      },
      "execution_count": 2,
      "outputs": [
        {
          "output_type": "execute_result",
          "data": {
            "text/plain": [
              "' charan'"
            ],
            "application/vnd.google.colaboratory.intrinsic+json": {
              "type": "string"
            }
          },
          "metadata": {},
          "execution_count": 2
        }
      ]
    },
    {
      "cell_type": "code",
      "source": [],
      "metadata": {
        "colab": {
          "base_uri": "https://localhost:8080/",
          "height": 141
        },
        "id": "cQRJw-Q6PFvY",
        "outputId": "b009d1f8-a587-4400-a524-2782e0d4de2a"
      },
      "execution_count": 3,
      "outputs": [
        {
          "output_type": "error",
          "ename": "NameError",
          "evalue": "name 'your' is not defined",
          "traceback": [
            "\u001b[0;31m---------------------------------------------------------------------------\u001b[0m",
            "\u001b[0;31mNameError\u001b[0m                                 Traceback (most recent call last)",
            "\u001b[0;32m<ipython-input-3-74688f0f48c4>\u001b[0m in \u001b[0;36m<cell line: 1>\u001b[0;34m()\u001b[0m\n\u001b[0;32m----> 1\u001b[0;31m \u001b[0myour\u001b[0m\u001b[0;34m\u001b[0m\u001b[0;34m\u001b[0m\u001b[0m\n\u001b[0m",
            "\u001b[0;31mNameError\u001b[0m: name 'your' is not defined"
          ]
        }
      ]
    },
    {
      "cell_type": "code",
      "source": [
        "num1=input(\"enteer first number:\")\n",
        "num2=input(\"enter second number:\")\n",
        "result=num1+num2\n",
        "print(result)"
      ],
      "metadata": {
        "colab": {
          "base_uri": "https://localhost:8080/"
        },
        "id": "i6jrbml0PI1H",
        "outputId": "9f57d96e-7d7c-4ce1-f7d9-cf964e3314eb"
      },
      "execution_count": 5,
      "outputs": [
        {
          "output_type": "stream",
          "name": "stdout",
          "text": [
            "enteer first number:10\n",
            "enter second number:12\n",
            "1012\n"
          ]
        }
      ]
    },
    {
      "cell_type": "code",
      "source": [
        "num1=int(input(\"enteer first number:\"))\n",
        "num2=int(input(\"enter second number:\"))\n",
        "result=num1+num2\n",
        "print(result)"
      ],
      "metadata": {
        "colab": {
          "base_uri": "https://localhost:8080/"
        },
        "id": "jcXrhlKYP9Zd",
        "outputId": "4439f863-c7d0-4b74-eaa1-3af9914a2f44"
      },
      "execution_count": 6,
      "outputs": [
        {
          "output_type": "stream",
          "name": "stdout",
          "text": [
            "enteer first number:24\n",
            "enter second number:12\n",
            "36\n"
          ]
        }
      ]
    },
    {
      "cell_type": "code",
      "source": [
        "num1=input(\"enteer first number:\")\n",
        "num2=input(\"enter second number:\")\n",
        "result=num1+num2\n",
        "print(\"sum of two number\",result)"
      ],
      "metadata": {
        "colab": {
          "base_uri": "https://localhost:8080/"
        },
        "id": "wUuVDDAnQYpE",
        "outputId": "59f4bffe-7430-434b-a09f-5597872396da"
      },
      "execution_count": 8,
      "outputs": [
        {
          "output_type": "stream",
          "name": "stdout",
          "text": [
            "enteer first number:10\n",
            "enter second number:12\n",
            "sum of two number 1012\n"
          ]
        }
      ]
    },
    {
      "cell_type": "code",
      "source": [
        "marks= float(input(\"enter your marks\"))\n",
        "if marks>=90:\n",
        "  print(\"your performance is outstanding and your grade is 0\")\n",
        "\n",
        "elif marks>=75:\n",
        "    print(\"gradeA\")\n",
        "\n",
        "elif marks>=40:\n",
        "    print(\"gradeB\")\n",
        "else:\n",
        "      print(\"need improvement\")\n"
      ],
      "metadata": {
        "colab": {
          "base_uri": "https://localhost:8080/"
        },
        "id": "PH-_CB48RF0p",
        "outputId": "6bddced6-94e0-4e10-afba-ebb701c4ca41"
      },
      "execution_count": 10,
      "outputs": [
        {
          "output_type": "stream",
          "name": "stdout",
          "text": [
            "enter your marks30\n",
            "need improvement\n"
          ]
        }
      ]
    },
    {
      "cell_type": "markdown",
      "source": [
        "nested condiotion"
      ],
      "metadata": {
        "id": "lTGN-W0rchvI"
      }
    },
    {
      "cell_type": "code",
      "source": [
        "num=int(input(\"enter a number\"))\n",
        "if num>0:\n",
        " if num%2==0:\n",
        "  print(\"number is positive and even\")\n",
        " else:\n",
        "  print(\"number is positive and odd\")\n",
        "elif num==0:\n",
        " print(\"number is zero\")\n",
        "else:\n",
        " print(\"number is negative\")"
      ],
      "metadata": {
        "colab": {
          "base_uri": "https://localhost:8080/"
        },
        "id": "rZaetbYychJ5",
        "outputId": "dbf2dcf1-3fa6-46f8-9eb6-39181871a3dc"
      },
      "execution_count": 19,
      "outputs": [
        {
          "output_type": "stream",
          "name": "stdout",
          "text": [
            "enter a number54\n",
            "number is positive and even\n"
          ]
        }
      ]
    },
    {
      "cell_type": "code",
      "source": [
        ""
      ],
      "metadata": {
        "id": "j_82PBMBbAaF"
      },
      "execution_count": 10,
      "outputs": []
    }
  ]
}